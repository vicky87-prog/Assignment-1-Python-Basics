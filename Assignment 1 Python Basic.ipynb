{
 "cells": [
  {
   "cell_type": "code",
   "execution_count": null,
   "id": "1eca3d41-2584-4346-99c4-6fa5baea8246",
   "metadata": {},
   "outputs": [],
   "source": [
    "# Q1) What is Python, and why is it popular?\n",
    "# Ans1) Python is a programming language. Python is so popular because of some main reasons described below.\n",
    "# Reasons of pythons popularity - 1) It is widely used in the industry, It becomes a very important programming language in all sectors & industries\n",
    "#                                 2) It is also widely used in Data Industry - Data Science, Data Anayltics, Business Analytics everywhere python is used\n",
    "#                                 3) Python has a lot of libraries which makes it easy to use and understand also there are lot of learning material and codes available to use.\n",
    "#                                 4) Pyhton can be used in Automation, Machine Learning, Web Developement, Image processing and so on\n",
    "#                                 5) Python can be used for interacting with Databases\n",
    "#                                 6) Easy to learn language, Readability\n",
    "#                                 7) Huge active library where people contribute with their complex codes to solve problems\n",
    "\n",
    "# Q2) What is an interpreter in Python?\n",
    "# Ans2) Python is an interpreted language, it executes code line-by-line, which makes it flexible and easy to debug.\n",
    "#       Python interpreter is a crucial component that allows Python code to be executed. It translates the \n",
    "#       high-level Python code into a form that the computer's processor can understand and execute. It is called as IDEs(Intergrated Developement Environment Software) as well.\n",
    "\n",
    "# Q3) What are pre-defined keywords in Python?\n",
    "# Ans3) Python has a set of keywords that are reserved words with special meanings and cannot be used as variable names, function names, or any other \n",
    "#       identifiers. These keywords are integral to the language syntax and serve specific purposes.\n",
    "\n",
    "# Q4) Can keywords be used as variable names?\n",
    "# Ans4) No the Pre-Defined keywords in Python cannot be used as variable names.\n",
    "\n",
    "# Q5)  What is mutability in Python?\n",
    "# Ans5)  In Python, mutability refers to the capability of an object to be changed or modified after its creation. This means that once a list is \n",
    "#        created, its elements can be modified, added, or removed.\n",
    "\n",
    "# Q6)  Why are lists mutable, but tuples are immutable?\n",
    "# Ans6) lists are mutable because Lists can be modified, as their elements can be changed, added or removed after creation. But on the other hand Tuples\n",
    "#       cannot be modified or changed. One of the examples of Tuples is string.\n",
    "\n",
    "# Q7) What is the difference between “==” and “is” operators in Python?\n",
    "# Ans7) \"==\" is used when you want to compare the values of two objects and \"is\" is used when when you want to compare the identity of two objects.\n",
    "#        For Example : a = 10 & b = 10 and if we print(a == b) the output would be True as the value of a & B are same. On the other hand if simlarly\n",
    "#        If a = 10 & b = 10 print(a is b) the output would be True again as the object is same. Here, a and b point to the same object.\n",
    "\n",
    "# Q8) What are logical operators in Python?\n",
    "# Ans8) Logical operators in Python are used to perform logical operations on boolean values. They help in making decisions based on multiple \n",
    "#       conditions. 3 main logical operators are \"and\", \"or\", \"not\" and they provide the result in True or False.\n",
    "\n",
    "# Q9) What is type casting in Python?\n",
    "# Ans9) The conversion of one data type into the other data type is known as type casting or type conversion in python. There are times when we want \n",
    "#       to specify a type on to a variable this can be done with casting.\n",
    "\n",
    "# Q10) What is the difference between implicit and explicit type casting?\n",
    "# Ans10) Imlicit type casting is automatic and Explicit type casting is manual. It means in Imlicit type casting the data type changes or converts \n",
    "#        automatically. but in explicit type casting the programmer explicitly give or convert the data type.\n",
    "\n",
    "# Q11) What is the purpose of conditional statements in Python?\n",
    "# Ans11) In Python, conditional statements are essential for controlling the program's flow. They allow us to make decisions based on the values \n",
    "#        of variables.\n",
    "\n",
    "# Q12) How does the elif statement work?\n",
    "# Ans12) The elif statement is pythons way of saying \"if the previous conditions were not true, then try this condition\". They are especially useful\n",
    "#        when you need to check for multiple conditions and execute diffrent code blocks.\n",
    "\n",
    "# Q13) What is the difference between for and while loops?\n",
    "# Ans13) \"For loop\" is used when you know in advance how many times you want to execute the block of code. It iterates over a sequence\n",
    "#         (e.g., a list, tuple, string, or range) and executes the block of code for each item in the sequence. The loop variable takes the value of\n",
    "#         each item in the sequence during each iteration.\n",
    "#        \"While loop\" is used when you don’t know in advance how many times you want to execute the block of code. It continues to execute as long as\n",
    "#         the specified condition is true. It’s important to make sure that the condition eventually becomes false; otherwise, the loop will run \n",
    "#         indefinitely, resulting in an infinite loop.\n",
    "\n",
    "# Q14) Describe a scenario where a while loop is more suitable than a for loop.\n",
    "# Ans14) To Get Input from the User Until a Specific Condition is Met A while loop is ideal or When the Number of Iterations is Unknown While loops \n",
    "#        are particularly useful when the number of iterations cannot be determined before the loop starts.\n",
    "# Scenerio : Imagine you are writing a program that requires the user to enter a valid password. The password must meet certain criteria \n",
    "#           (e.g., at least 8 characters long, contains both letters and numbers). You want to keep prompting the user until they enter a valid \n",
    "#           password. In this case, a while loop is more suitable because you don't know in advance how many attempts the user will need."
   ]
  },
  {
   "cell_type": "code",
   "execution_count": 1,
   "id": "37ea03ca-d4ab-4d4b-b8e2-c8ec7837daeb",
   "metadata": {},
   "outputs": [
    {
     "name": "stdout",
     "output_type": "stream",
     "text": [
      "Hello World\n"
     ]
    }
   ],
   "source": [
    "print(\"Hello World\")"
   ]
  },
  {
   "cell_type": "code",
   "execution_count": 6,
   "id": "8969f372-0c68-40b9-8aea-483cec1c1407",
   "metadata": {},
   "outputs": [
    {
     "name": "stdout",
     "output_type": "stream",
     "text": [
      "Vikas 35\n",
      "Vikas\n",
      "35\n"
     ]
    }
   ],
   "source": [
    "Name = \"Vikas\"\n",
    "Age = 35\n",
    "print(Name, Age)\n",
    "print(Name)\n",
    "print(Age)"
   ]
  },
  {
   "cell_type": "code",
   "execution_count": 10,
   "id": "76036521-adea-467e-9601-38e2a79b24a0",
   "metadata": {},
   "outputs": [
    {
     "name": "stdout",
     "output_type": "stream",
     "text": [
      "['False', 'None', 'True', 'and', 'as', 'assert', 'async', 'await', 'break', 'class', 'continue', 'def', 'del', 'elif', 'else', 'except', 'finally', 'for', 'from', 'global', 'if', 'import', 'in', 'is', 'lambda', 'nonlocal', 'not', 'or', 'pass', 'raise', 'return', 'try', 'while', 'with', 'yield']\n"
     ]
    }
   ],
   "source": [
    "import keyword\n",
    "\n",
    "# Print all Python keywords\n",
    "print(keyword.kwlist)"
   ]
  },
  {
   "cell_type": "code",
   "execution_count": 11,
   "id": "c0ee455b-4a5f-4eed-87d6-880830c341f6",
   "metadata": {},
   "outputs": [
    {
     "name": "stdout",
     "output_type": "stream",
     "text": [
      "'and is a keyword in python.\n"
     ]
    }
   ],
   "source": [
    "import keyword\n",
    "\n",
    "word =\"and\"\n",
    "if keyword.iskeyword(word):\n",
    "    print(f\"'{word} is a keyword in python.\")\n",
    "else:\n",
    "    print(f\"'{word} is not a keyword in python.\")"
   ]
  },
  {
   "cell_type": "code",
   "execution_count": 12,
   "id": "5727e49d-fe6c-4cfe-b92c-c68715583d18",
   "metadata": {},
   "outputs": [
    {
     "name": "stdout",
     "output_type": "stream",
     "text": [
      "'or is a keyword in python.\n"
     ]
    }
   ],
   "source": [
    "word =\"or\"\n",
    "if keyword.iskeyword(word):\n",
    "    print(f\"'{word} is a keyword in python.\")\n",
    "else:\n",
    "    print(f\"'{word} is not a keyword in python.\")"
   ]
  },
  {
   "cell_type": "code",
   "execution_count": 13,
   "id": "71d2628d-e97c-4916-a1bd-8dac21c15507",
   "metadata": {},
   "outputs": [
    {
     "name": "stdout",
     "output_type": "stream",
     "text": [
      "'fast is not a keyword in python.\n"
     ]
    }
   ],
   "source": [
    "word =\"fast\"\n",
    "if keyword.iskeyword(word):\n",
    "    print(f\"'{word} is a keyword in python.\")\n",
    "else:\n",
    "    print(f\"'{word} is not a keyword in python.\")"
   ]
  },
  {
   "cell_type": "code",
   "execution_count": 15,
   "id": "a73e13e5-d748-4983-b16a-584ea4386732",
   "metadata": {},
   "outputs": [
    {
     "data": {
      "text/plain": [
       "(1, 2, 3, 4, 10)"
      ]
     },
     "execution_count": 15,
     "metadata": {},
     "output_type": "execute_result"
    }
   ],
   "source": [
    "# Create a list and tuple in Python, and demonstrate how attempting to change an element works differently for each.\n",
    "list = (1, 2, 3, 4, 10)\n",
    "list"
   ]
  },
  {
   "cell_type": "code",
   "execution_count": 17,
   "id": "f5484fb9-ad4a-40aa-8444-af36328b6f3d",
   "metadata": {},
   "outputs": [
    {
     "data": {
      "text/plain": [
       "'Vikas'"
      ]
     },
     "execution_count": 17,
     "metadata": {},
     "output_type": "execute_result"
    }
   ],
   "source": [
    "list_cont = [1, 2, 3, 4, 10, 'Vikas']\n",
    "list_cont[5]"
   ]
  },
  {
   "cell_type": "code",
   "execution_count": 18,
   "id": "4a4ded8f-2b7a-4929-ba8a-603ef1167549",
   "metadata": {},
   "outputs": [
    {
     "data": {
      "text/plain": [
       "'Vicky'"
      ]
     },
     "execution_count": 18,
     "metadata": {},
     "output_type": "execute_result"
    }
   ],
   "source": [
    "list_cont[5]= \"Vicky\"\n",
    "list_cont[5]"
   ]
  },
  {
   "cell_type": "code",
   "execution_count": 19,
   "id": "d26431b0-ec8c-42c2-99a6-39fc9d9cafca",
   "metadata": {},
   "outputs": [
    {
     "data": {
      "text/plain": [
       "[1, 2, 3, 4, 10, 'Vicky']"
      ]
     },
     "execution_count": 19,
     "metadata": {},
     "output_type": "execute_result"
    }
   ],
   "source": [
    "list_cont"
   ]
  },
  {
   "cell_type": "code",
   "execution_count": 20,
   "id": "c9995e40-a922-46fa-96ab-768d5c0d512b",
   "metadata": {},
   "outputs": [
    {
     "data": {
      "text/plain": [
       "(1, 34, 55, 'vicky', 'pwskills')"
      ]
     },
     "execution_count": 20,
     "metadata": {},
     "output_type": "execute_result"
    }
   ],
   "source": [
    "# Tuples are immutable\n",
    "tup = (1, 34, 55, 'vicky', 'pwskills')\n",
    "tup"
   ]
  },
  {
   "cell_type": "code",
   "execution_count": 22,
   "id": "839f2820-0f10-4024-9bd8-56ed49f9c3eb",
   "metadata": {},
   "outputs": [
    {
     "data": {
      "text/plain": [
       "'pwskills'"
      ]
     },
     "execution_count": 22,
     "metadata": {},
     "output_type": "execute_result"
    }
   ],
   "source": [
    "tup[4]"
   ]
  },
  {
   "cell_type": "code",
   "execution_count": 23,
   "id": "7a54b685-2537-42c0-be78-15fda311ee28",
   "metadata": {},
   "outputs": [
    {
     "ename": "TypeError",
     "evalue": "'tuple' object does not support item assignment",
     "output_type": "error",
     "traceback": [
      "\u001b[31m---------------------------------------------------------------------------\u001b[39m",
      "\u001b[31mTypeError\u001b[39m                                 Traceback (most recent call last)",
      "\u001b[36mCell\u001b[39m\u001b[36m \u001b[39m\u001b[32mIn[23]\u001b[39m\u001b[32m, line 1\u001b[39m\n\u001b[32m----> \u001b[39m\u001b[32m1\u001b[39m \u001b[43mtup\u001b[49m\u001b[43m[\u001b[49m\u001b[32;43m4\u001b[39;49m\u001b[43m]\u001b[49m = \u001b[33m'\u001b[39m\u001b[33mVikas\u001b[39m\u001b[33m'\u001b[39m\n",
      "\u001b[31mTypeError\u001b[39m: 'tuple' object does not support item assignment"
     ]
    }
   ],
   "source": [
    "tup[4] = 'Vikas'"
   ]
  },
  {
   "cell_type": "code",
   "execution_count": 27,
   "id": "1f0110b6-1771-4a25-8e86-4404228d53a4",
   "metadata": {},
   "outputs": [
    {
     "data": {
      "text/plain": [
       "1"
      ]
     },
     "execution_count": 27,
     "metadata": {},
     "output_type": "execute_result"
    }
   ],
   "source": [
    "# Write a function to demonstrate the behavior of mutable and immutable arguments.\n",
    "list_cont = [1, 2, 3, 4, 10, 'Vikas']\n",
    "list_cont.count('Vikas')"
   ]
  },
  {
   "cell_type": "code",
   "execution_count": 28,
   "id": "75c7d754-9a60-4528-bbcc-7eff04bd052c",
   "metadata": {},
   "outputs": [
    {
     "data": {
      "text/plain": [
       "0"
      ]
     },
     "execution_count": 28,
     "metadata": {},
     "output_type": "execute_result"
    }
   ],
   "source": [
    "list_cont.index(1)"
   ]
  },
  {
   "cell_type": "code",
   "execution_count": 29,
   "id": "cc3e44d5-2691-42a9-8267-b302ca43deb7",
   "metadata": {},
   "outputs": [
    {
     "name": "stdout",
     "output_type": "stream",
     "text": [
      "[1, 2, 3, 4, 10, 'Vikas', 1, 2, 3, 4, 10, 'Vikas']\n"
     ]
    }
   ],
   "source": [
    "print(list_cont*2)"
   ]
  },
  {
   "cell_type": "code",
   "execution_count": 34,
   "id": "21860b42-558c-4abb-a43f-091317a24183",
   "metadata": {},
   "outputs": [
    {
     "data": {
      "text/plain": [
       "'vicky'"
      ]
     },
     "execution_count": 34,
     "metadata": {},
     "output_type": "execute_result"
    }
   ],
   "source": [
    "list_cont[1] = 'vicky'\n",
    "list_cont[1]"
   ]
  },
  {
   "cell_type": "code",
   "execution_count": 35,
   "id": "f17ba9fc-99dc-47d3-ac2d-72821ed4663e",
   "metadata": {},
   "outputs": [
    {
     "data": {
      "text/plain": [
       "0"
      ]
     },
     "execution_count": 35,
     "metadata": {},
     "output_type": "execute_result"
    }
   ],
   "source": [
    "list_cont.index(1)"
   ]
  },
  {
   "cell_type": "code",
   "execution_count": 36,
   "id": "318844b2-06db-460b-a4b1-2fca476e7182",
   "metadata": {},
   "outputs": [
    {
     "name": "stdout",
     "output_type": "stream",
     "text": [
      "[1, 'vicky', 3, 4, 10, 'Vikas', 1, 'vicky', 3, 4, 10, 'Vikas']\n"
     ]
    }
   ],
   "source": [
    "print(list_cont*2)"
   ]
  },
  {
   "cell_type": "code",
   "execution_count": 37,
   "id": "0c7c701c-22b8-46da-9c24-7cb374b5561e",
   "metadata": {},
   "outputs": [
    {
     "data": {
      "text/plain": [
       "[1, 'vicky', 3]"
      ]
     },
     "execution_count": 37,
     "metadata": {},
     "output_type": "execute_result"
    }
   ],
   "source": [
    "list_cont[0:3]"
   ]
  },
  {
   "cell_type": "code",
   "execution_count": 38,
   "id": "c7b80350-7966-42cd-a3a3-e2239b7aa45a",
   "metadata": {},
   "outputs": [
    {
     "name": "stdout",
     "output_type": "stream",
     "text": [
      "77\n"
     ]
    }
   ],
   "source": [
    "# Write a program that performs basic arithmetic operations on two user-input numbers.\n",
    "num1 = int(21)\n",
    "num2 = int(56)\n",
    "print(num1+num2)"
   ]
  },
  {
   "cell_type": "code",
   "execution_count": 39,
   "id": "a4d612eb-c92a-4fca-acec-66e97f3c8f9a",
   "metadata": {},
   "outputs": [
    {
     "data": {
      "text/plain": [
       "1176"
      ]
     },
     "execution_count": 39,
     "metadata": {},
     "output_type": "execute_result"
    }
   ],
   "source": [
    "num1*num2"
   ]
  },
  {
   "cell_type": "code",
   "execution_count": 40,
   "id": "1c3e116c-d20c-48a1-9122-aad55ccbe9c3",
   "metadata": {},
   "outputs": [
    {
     "data": {
      "text/plain": [
       "2.6666666666666665"
      ]
     },
     "execution_count": 40,
     "metadata": {},
     "output_type": "execute_result"
    }
   ],
   "source": [
    "num2/num1"
   ]
  },
  {
   "cell_type": "code",
   "execution_count": 49,
   "id": "d4938631-6bea-4170-b2a4-58f96c79f381",
   "metadata": {},
   "outputs": [
    {
     "name": "stdin",
     "output_type": "stream",
     "text": [
      "Enter the first number:  25\n",
      "Enter the second number:  25\n"
     ]
    },
    {
     "name": "stdout",
     "output_type": "stream",
     "text": [
      "Addition: 25 + 25 = 50\n"
     ]
    }
   ],
   "source": [
    "num1 = int(input(\"Enter the first number: \"))\n",
    "num2 = int(input(\"Enter the second number: \"))\n",
    "print(f\"Addition: {num1} + {num2} = {num1+num2}\")"
   ]
  },
  {
   "cell_type": "code",
   "execution_count": 50,
   "id": "98832299-d396-4016-a93b-2cc056f7b2de",
   "metadata": {},
   "outputs": [
    {
     "name": "stdin",
     "output_type": "stream",
     "text": [
      "Enter the first number:  50\n",
      "Enter the second number:  25\n"
     ]
    },
    {
     "name": "stdout",
     "output_type": "stream",
     "text": [
      "Subtraction: 50 - 25 = 25\n"
     ]
    }
   ],
   "source": [
    "num1 = int(input(\"Enter the first number: \"))\n",
    "num2 = int(input(\"Enter the second number: \"))\n",
    "print(f\"Subtraction: {num1} - {num2} = {num1-num2}\")"
   ]
  },
  {
   "cell_type": "code",
   "execution_count": 54,
   "id": "dad3523a-c257-40dd-b66d-f8197db2bda6",
   "metadata": {},
   "outputs": [
    {
     "name": "stdout",
     "output_type": "stream",
     "text": [
      "car and bike is False\n"
     ]
    }
   ],
   "source": [
    "# Write a program to demonstrate the use of logical operators.\n",
    "\n",
    "# Variables\n",
    "Car = True\n",
    "bike = False\n",
    "dog = True\n",
    "\n",
    "# Using 'and' operator\n",
    "\n",
    "by_and = Car and bike\n",
    "print(f\"{\"car\"} and {\"bike\"} is {by_and}\")"
   ]
  },
  {
   "cell_type": "code",
   "execution_count": 55,
   "id": "a587fdf7-f1cc-455d-a2f9-c5bfe74361cb",
   "metadata": {},
   "outputs": [
    {
     "name": "stdout",
     "output_type": "stream",
     "text": [
      "car or bike is False\n"
     ]
    }
   ],
   "source": [
    "# Using 'or' operator\n",
    "by_and = Car and bike\n",
    "print(f\"{\"car\"} or {\"bike\"} is {by_and}\")"
   ]
  },
  {
   "cell_type": "code",
   "execution_count": 57,
   "id": "de34213b-657c-497f-a87d-09762737f047",
   "metadata": {},
   "outputs": [
    {
     "name": "stdout",
     "output_type": "stream",
     "text": [
      "not a car is False\n"
     ]
    }
   ],
   "source": [
    "# Using 'not' operator\n",
    "by_not = Car and bike\n",
    "print(f\"not a {\"car\"} is {by_not}\")"
   ]
  },
  {
   "cell_type": "code",
   "execution_count": 61,
   "id": "2bcc311f-201d-40df-a905-ba4e3ccd639e",
   "metadata": {},
   "outputs": [
    {
     "name": "stdout",
     "output_type": "stream",
     "text": [
      "(Car and bike) or (Car and dog) is True\n"
     ]
    }
   ],
   "source": [
    "# Combining logical operators\n",
    "by_and_by_or = (Car and bike) or (Car and dog)\n",
    "print(f\"({\"Car\"} and {\"bike\"}) or ({\"Car\"} and {\"dog\"}) is {by_and_by_or}\")"
   ]
  },
  {
   "cell_type": "code",
   "execution_count": null,
   "id": "cb09cf89-68a6-4075-b1eb-8ba365c8e464",
   "metadata": {},
   "outputs": [],
   "source": [
    "# Write a Python program to convert user input from string to integer, float, and boolean types."
   ]
  },
  {
   "cell_type": "code",
   "execution_count": 66,
   "id": "c94dff1a-8dbb-4093-9aa0-2441b6fba84a",
   "metadata": {},
   "outputs": [
    {
     "ename": "SyntaxError",
     "evalue": "cannot assign to literal (1783581571.py, line 7)",
     "output_type": "error",
     "traceback": [
      "  \u001b[36mCell\u001b[39m\u001b[36m \u001b[39m\u001b[32mIn[66]\u001b[39m\u001b[32m, line 7\u001b[39m\n\u001b[31m    \u001b[39m\u001b[31mint_list = [int(\"1\") for [\"1\", \"2\", \"3\"] in string_list]\u001b[39m\n                              ^\n\u001b[31mSyntaxError\u001b[39m\u001b[31m:\u001b[39m cannot assign to literal\n"
     ]
    }
   ],
   "source": [
    "# Write code to demonstrate type casting with list elements.\n",
    "\n",
    "# Original list with string elements\n",
    "string_list = [\"1\", \"2\", \"3\", \"4\", \"5\"]\n",
    "\n",
    "# Convert string elements to integers\n",
    "int_list = [int(\"1\") for [\"1\", \"2\", \"3\"] in string_list]\n",
    "print(\"List with integer elements:\", int_list)"
   ]
  },
  {
   "cell_type": "code",
   "execution_count": 77,
   "id": "565bc6ed-13a5-4ea1-bff0-a18cd1d2bcc4",
   "metadata": {},
   "outputs": [
    {
     "name": "stdin",
     "output_type": "stream",
     "text": [
      "Enter a number:  25\n"
     ]
    },
    {
     "name": "stdout",
     "output_type": "stream",
     "text": [
      "The Number is positive\n"
     ]
    }
   ],
   "source": [
    "# Write a program that checks if a number is positive, negative, or zero.\n",
    "\n",
    "def check_number(num):\n",
    "    if num > 0:\n",
    "        print(\"The Number is positive\")\n",
    "    elif num < 0:\n",
    "        print(\"The number is negative\")\n",
    "    else:\n",
    "        print(\"The Number is Zero\")\n",
    "\n",
    "num = float(input(\"Enter a number: \"))\n",
    "result = check_number(num)"
   ]
  },
  {
   "cell_type": "code",
   "execution_count": 78,
   "id": "f92b9af5-86c8-4f26-9372-3a4f7323283d",
   "metadata": {},
   "outputs": [
    {
     "name": "stdin",
     "output_type": "stream",
     "text": [
      "Enter a number:  -1\n"
     ]
    },
    {
     "name": "stdout",
     "output_type": "stream",
     "text": [
      "The number is negative\n"
     ]
    }
   ],
   "source": [
    "def check_number(num):\n",
    "    if num > 0:\n",
    "        print(\"The Number is positive\")\n",
    "    elif num < 0:\n",
    "        print(\"The number is negative\")\n",
    "    else:\n",
    "        print(\"The Number is Zero\")\n",
    "\n",
    "num = float(input(\"Enter a number: \"))\n",
    "result = check_number(num)"
   ]
  },
  {
   "cell_type": "code",
   "execution_count": 79,
   "id": "68f1cfc7-3eda-40db-864e-9f70d470317e",
   "metadata": {},
   "outputs": [
    {
     "name": "stdin",
     "output_type": "stream",
     "text": [
      "Enter a number:  0\n"
     ]
    },
    {
     "name": "stdout",
     "output_type": "stream",
     "text": [
      "The Number is Zero\n"
     ]
    }
   ],
   "source": [
    "def check_number(num):\n",
    "    if num > 0:\n",
    "        print(\"The Number is positive\")\n",
    "    elif num < 0:\n",
    "        print(\"The number is negative\")\n",
    "    else:\n",
    "        print(\"The Number is Zero\")\n",
    "\n",
    "num = float(input(\"Enter a number: \"))\n",
    "result = check_number(num)"
   ]
  },
  {
   "cell_type": "code",
   "execution_count": 96,
   "id": "bfebec8a-a57f-4d9a-9b97-4ed18c7d1bf5",
   "metadata": {},
   "outputs": [
    {
     "name": "stdout",
     "output_type": "stream",
     "text": [
      "1\n",
      "2\n",
      "3\n",
      "4\n",
      "5\n",
      "6\n",
      "7\n",
      "8\n",
      "9\n",
      "10\n"
     ]
    }
   ],
   "source": [
    "# Write a for loop to print numbers from 1 to 10.\n",
    "for i in range(1, 11):\n",
    "    print(i)"
   ]
  },
  {
   "cell_type": "code",
   "execution_count": 97,
   "id": "86dd3551-1729-4f53-b977-7dd6875b2d1f",
   "metadata": {},
   "outputs": [
    {
     "name": "stdout",
     "output_type": "stream",
     "text": [
      "The sum of all even numbers between 1 and 50 is: 650\n"
     ]
    }
   ],
   "source": [
    "# Write a Python program to find the sum of all even numbers between 1 and 50.\n",
    "sum_of_evens = 0\n",
    "for number in range(1, 51):\n",
    "    if number % 2 == 0:\n",
    "        sum_of_evens += number\n",
    "print(\"The sum of all even numbers between 1 and 50 is:\", sum_of_evens)"
   ]
  },
  {
   "cell_type": "code",
   "execution_count": null,
   "id": "dd0d2f74-7e25-4d42-a74f-80148767fe32",
   "metadata": {},
   "outputs": [],
   "source": [
    "# Write a program to reverse a string using a while loop."
   ]
  },
  {
   "cell_type": "code",
   "execution_count": 99,
   "id": "4773ba66-a190-4d8c-89bd-78bcdb6008ce",
   "metadata": {},
   "outputs": [
    {
     "name": "stdin",
     "output_type": "stream",
     "text": [
      "Enter a number to calculate its factorial:  12\n"
     ]
    },
    {
     "name": "stdout",
     "output_type": "stream",
     "text": [
      "479001600\n",
      "The factorial of 12 is None.\n"
     ]
    }
   ],
   "source": [
    "# Write a Python program to calculate the factorial of a number provided by the user using a while loop.\n",
    "\n",
    "def factorial(n):\n",
    "    result = 1\n",
    "    while n > 0:\n",
    "        result *= n\n",
    "        n -= 1\n",
    "    print(result)\n",
    "\n",
    "try:\n",
    "    number = int(input(\"Enter a number to calculate its factorial: \"))\n",
    "    if number < 0:\n",
    "        print(\"Factorial is not defined for negative numbers.\")\n",
    "    else:\n",
    "        print(f\"The factorial of {number} is {factorial(number)}.\")\n",
    "except ValueError:\n",
    "    print(\"Please enter a valid integer.\")"
   ]
  },
  {
   "cell_type": "code",
   "execution_count": null,
   "id": "288a751d-44e9-4bbd-ac6d-1c69a004d89e",
   "metadata": {},
   "outputs": [],
   "source": []
  }
 ],
 "metadata": {
  "kernelspec": {
   "display_name": "Python 3 (ipykernel)",
   "language": "python",
   "name": "python3"
  },
  "language_info": {
   "codemirror_mode": {
    "name": "ipython",
    "version": 3
   },
   "file_extension": ".py",
   "mimetype": "text/x-python",
   "name": "python",
   "nbconvert_exporter": "python",
   "pygments_lexer": "ipython3",
   "version": "3.13.3"
  }
 },
 "nbformat": 4,
 "nbformat_minor": 5
}
